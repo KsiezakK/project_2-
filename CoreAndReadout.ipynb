{
 "cells": [
  {
   "cell_type": "code",
   "execution_count": 1,
   "metadata": {},
   "outputs": [],
   "source": [
    "import torch\n",
    "import torch.nn as nn\n",
    "from torch.nn import functional as F\n",
    "from torch.utils.data import Dataset, DataLoader\n",
    "from torch.optim.lr_scheduler import ReduceLROnPlateau, StepLR\n",
    "\n",
    "import numpy as np\n",
    "\n",
    "from itertools import repeat\n",
    "\n",
    "import matplotlib.pyplot as plt\n",
    "from matplotlib.lines import Line2D\n",
    "import seaborn as sns\n",
    "\n",
    "from masterthesis.datasets import ReachCageDataset"
   ]
  },
  {
   "cell_type": "code",
   "execution_count": 2,
   "metadata": {},
   "outputs": [],
   "source": [
    "seed = 1\n",
    "torch.manual_seed(seed)\n",
    "np.random.seed(seed)"
   ]
  },
  {
   "cell_type": "markdown",
   "metadata": {},
   "source": [
    "## Simulate data\n",
    "\n",
    "Idea: As we want to catch generalizations in the data with the core of our architecture and neuron-specific characteristics with the readout, we want to generate data mirroring this assumption about our data."
   ]
  },
  {
   "cell_type": "code",
   "execution_count": 3,
   "metadata": {},
   "outputs": [
    {
     "name": "stdout",
     "output_type": "stream",
     "text": [
      "torch.Size([10, 1])\n"
     ]
    },
    {
     "data": {
      "text/plain": [
       "tensor([[-2,  2,  2,  1,  1,  1, -1, -1,  2,  0]])"
      ]
     },
     "execution_count": 3,
     "metadata": {},
     "output_type": "execute_result"
    }
   ],
   "source": [
    "n_neurons = 10\n",
    "n_time_bins = int(5500/100) # 100ms time bins over 5.4s in total\n",
    "\n",
    "possible_neuron_specifics = torch.arange(-2, 3)\n",
    "neuron_specifics = possible_neuron_specifics[torch.randint(0, len(possible_neuron_specifics), (n_neurons,))]\n",
    "#neuron_specifics = torch.arange(-1, 2)\n",
    "neuron_specifics = neuron_specifics.unsqueeze(1)\n",
    "\n",
    "print(neuron_specifics.shape)\n",
    "neuron_specifics.T"
   ]
  },
  {
   "cell_type": "code",
   "execution_count": 4,
   "metadata": {},
   "outputs": [
    {
     "name": "stdout",
     "output_type": "stream",
     "text": [
      "torch.Size([10, 54])\n"
     ]
    },
    {
     "data": {
      "text/plain": [
       "tensor([2., 3., 2., 3., 2., 3., 2., 3., 2., 3., 2., 3., 2., 3., 2., 3., 2., 3.,\n",
       "        2., 3., 2., 3., 2., 3., 2., 3., 2., 3., 2., 3., 2., 3., 2., 3., 2., 3.,\n",
       "        2., 3., 2., 3., 2., 3., 2., 3., 2., 3., 2., 3., 2., 3., 2., 3., 2., 3.])"
      ]
     },
     "execution_count": 4,
     "metadata": {},
     "output_type": "execute_result"
    }
   ],
   "source": [
    "raw_spikes = torch.arange(2, 4).float()\n",
    "raw_spikes = raw_spikes.repeat((n_neurons, int(n_time_bins//len(raw_spikes))+1))\n",
    "raw_spikes = raw_spikes[:,0:n_time_bins]\n",
    "\n",
    "print(raw_spikes.shape)\n",
    "raw_spikes[0,...]"
   ]
  },
  {
   "cell_type": "code",
   "execution_count": 5,
   "metadata": {},
   "outputs": [
    {
     "name": "stdout",
     "output_type": "stream",
     "text": [
      "torch.Size([10, 54])\n"
     ]
    },
    {
     "data": {
      "text/plain": [
       "tensor([0., 1., 0., 1., 0., 1., 0., 1., 0., 1., 0., 1., 0., 1., 0., 1., 0., 1.,\n",
       "        0., 1., 0., 1., 0., 1., 0., 1., 0., 1., 0., 1., 0., 1., 0., 1., 0., 1.,\n",
       "        0., 1., 0., 1., 0., 1., 0., 1., 0., 1., 0., 1., 0., 1., 0., 1., 0., 1.])"
      ]
     },
     "execution_count": 5,
     "metadata": {},
     "output_type": "execute_result"
    }
   ],
   "source": [
    "spikes = raw_spikes+neuron_specifics\n",
    "\n",
    "print(spikes.shape)\n",
    "spikes[0,...]"
   ]
  },
  {
   "cell_type": "code",
   "execution_count": 6,
   "metadata": {},
   "outputs": [
    {
     "name": "stdout",
     "output_type": "stream",
     "text": [
      "torch.Size([10, 53])\n"
     ]
    },
    {
     "data": {
      "text/plain": [
       "tensor([1., 0., 1., 0., 1., 0., 1., 0., 1., 0., 1., 0., 1., 0., 1., 0., 1., 0.,\n",
       "        1., 0., 1., 0., 1., 0., 1., 0., 1., 0., 1., 0., 1., 0., 1., 0., 1., 0.,\n",
       "        1., 0., 1., 0., 1., 0., 1., 0., 1., 0., 1., 0., 1., 0., 1., 0., 1.])"
      ]
     },
     "execution_count": 6,
     "metadata": {},
     "output_type": "execute_result"
    }
   ],
   "source": [
    "X = spikes[:, 1:]\n",
    "\n",
    "print(X.shape)\n",
    "X[0,...]"
   ]
  },
  {
   "cell_type": "code",
   "execution_count": 7,
   "metadata": {},
   "outputs": [
    {
     "name": "stdout",
     "output_type": "stream",
     "text": [
      "torch.Size([10, 53])\n"
     ]
    },
    {
     "data": {
      "text/plain": [
       "tensor([0., 1., 0., 1., 0., 1., 0., 1., 0., 1., 0., 1., 0., 1., 0., 1., 0., 1.,\n",
       "        0., 1., 0., 1., 0., 1., 0., 1., 0., 1., 0., 1., 0., 1., 0., 1., 0., 1.,\n",
       "        0., 1., 0., 1., 0., 1., 0., 1., 0., 1., 0., 1., 0., 1., 0., 1., 0.])"
      ]
     },
     "execution_count": 7,
     "metadata": {},
     "output_type": "execute_result"
    }
   ],
   "source": [
    "Y = spikes[:, :-1]\n",
    "\n",
    "print(Y.shape)\n",
    "Y[0,...]"
   ]
  },
  {
   "cell_type": "code",
   "execution_count": 8,
   "metadata": {},
   "outputs": [],
   "source": [
    "class CustomDataset(Dataset):\n",
    "    def __init__(self, X, Y):\n",
    "        self.X = X\n",
    "        self.Y = Y\n",
    "\n",
    "    def __len__(self):\n",
    "        return len(self.X)\n",
    "\n",
    "    def __getitem__(self, index):\n",
    "        return self.X[index], self.Y[index]"
   ]
  },
  {
   "cell_type": "code",
   "execution_count": 9,
   "metadata": {},
   "outputs": [],
   "source": [
    "spikes_dataset = CustomDataset(X, Y)\n",
    "batch_size = n_neurons\n",
    "train_dataloader = DataLoader(spikes_dataset, batch_size=batch_size, shuffle=False)\n",
    "val_dataloader = DataLoader(spikes_dataset, batch_size=batch_size, shuffle=True)"
   ]
  },
  {
   "cell_type": "markdown",
   "metadata": {},
   "source": [
    "## Model architecture"
   ]
  },
  {
   "cell_type": "code",
   "execution_count": 10,
   "metadata": {},
   "outputs": [],
   "source": [
    "def elu1(x):\n",
    "    return F.elu(x, inplace=True) + 1.\n",
    "\n",
    "class Elu1(nn.Module):\n",
    "    \"\"\"\n",
    "    Elu activation function shifted by 1 to ensure that the\n",
    "    output stays positive. That is:\n",
    "\n",
    "    Elu1(x) = Elu(x) + 1\n",
    "    \"\"\"\n",
    "\n",
    "    def forward(self, x):\n",
    "        return elu1(x)"
   ]
  },
  {
   "cell_type": "code",
   "execution_count": 11,
   "metadata": {},
   "outputs": [],
   "source": [
    "class CoreAndReadout(nn.Module):\n",
    "    def __init__(self, core, readout, nonlinearity=None):\n",
    "        super().__init__()\n",
    "        self.core = core\n",
    "        self.readout = readout\n",
    "        self.nonlinearity = elu1 if nonlinearity is None else nonlinearity\n",
    "        \n",
    "    def forward(self, x):\n",
    "        latents = self.core(x)\n",
    "        output = self.readout(latents)\n",
    "        return self.nonlinearity(output), latents"
   ]
  },
  {
   "cell_type": "code",
   "execution_count": 12,
   "metadata": {},
   "outputs": [],
   "source": [
    "class GRUCore(nn.Module):\n",
    "    def __init__(self, hidden_size, bias=True):\n",
    "        super().__init__()\n",
    "        self.gru = nn.GRUCell(1, hidden_size, bias=bias)\n",
    "        \n",
    "    def init_state(self, batch_size):\n",
    "        return nn.Parameter(torch.zeros([batch_size, self.gru.hidden_size]))\n",
    "        \n",
    "    def forward(self, x, hidden_state=None, reverse=True):\n",
    "        if len(x.shape) != 2:\n",
    "            raise RuntimeError(f\"Expected 2D input to GRUCore, but got input of size: {x.shape}\")\n",
    "            \n",
    "        hidden_states = []\n",
    "        hidden_state = self.init_state(x.shape[0]) if hidden_state is None else hidden_state\n",
    "        \n",
    "        rng = range(x.shape[1])\n",
    "        rng = reversed(rng) if reverse else rng\n",
    "        \n",
    "        for t in rng:\n",
    "            input_ = x[:,t:t+1]\n",
    "            hidden_state = self.gru(input_, hidden_state)\n",
    "            hidden_states.append(hidden_state)\n",
    "            \n",
    "        hidden_states = torch.stack(hidden_states, 1)\n",
    "        return hidden_states"
   ]
  },
  {
   "cell_type": "code",
   "execution_count": 13,
   "metadata": {},
   "outputs": [],
   "source": [
    "class LinearReadout(nn.Module):\n",
    "    def __init__(self, input_size, bias=True):\n",
    "        super().__init__()\n",
    "        self.linear = nn.Linear(input_size, 1, bias=bias)\n",
    "        \n",
    "    def forward(self, x):\n",
    "        x = self.linear(x)\n",
    "        return x.squeeze(dim=2)"
   ]
  },
  {
   "cell_type": "markdown",
   "metadata": {},
   "source": [
    "## Training functions"
   ]
  },
  {
   "cell_type": "code",
   "execution_count": 14,
   "metadata": {},
   "outputs": [],
   "source": [
    "def get_device(cpu_preference=False, verbose=True):\n",
    "    device = torch.device(\"cuda\" if torch.cuda.is_available() and not cpu_preference else \"cpu\")\n",
    "    if verbose: print(\"Using device:\", device)\n",
    "    return device"
   ]
  },
  {
   "cell_type": "code",
   "execution_count": 15,
   "metadata": {},
   "outputs": [],
   "source": [
    "def accuracy(correct, total):\n",
    "    return float(correct)/total"
   ]
  },
  {
   "cell_type": "code",
   "execution_count": 16,
   "metadata": {},
   "outputs": [],
   "source": [
    "def train(dataloader, model, optimizer, loss_fn, scheduler=None, device=None):\n",
    "    epoch_loss = []\n",
    "    epoch_correct, epoch_total = 0, 0\n",
    "    \n",
    "    model.train()\n",
    "    for x, y in dataloader:\n",
    "        x = x.to(device)\n",
    "        y = y.to(device)\n",
    "        \n",
    "        optimizer.zero_grad()\n",
    "        \n",
    "        y_pred, _ = model(x)\n",
    "        \n",
    "        loss = loss_fn(y_pred, y)\n",
    "        epoch_loss.append(loss.item())\n",
    "        \n",
    "        y_pred = torch.round(y_pred)\n",
    "        epoch_correct += sum((y == y_pred).flatten()).item()\n",
    "        epoch_total += y.numel()\n",
    "        \n",
    "        loss.backward()\n",
    "        optimizer.step()\n",
    "        if scheduler:\n",
    "            scheduler.step()\n",
    "    \n",
    "    return np.mean(epoch_loss), accuracy(epoch_correct, epoch_total)"
   ]
  },
  {
   "cell_type": "code",
   "execution_count": 17,
   "metadata": {},
   "outputs": [],
   "source": [
    "def validate(dataloader, model, loss_fn, device=None):\n",
    "    epoch_loss = []\n",
    "    epoch_correct, epoch_total = 0, 0\n",
    "    \n",
    "    model.eval()\n",
    "    with torch.no_grad():\n",
    "        for x, y in dataloader:\n",
    "            x = x.to(device)\n",
    "            y = y.to(device)\n",
    "            \n",
    "            y_pred, _ = model(x)\n",
    "            \n",
    "            loss = loss_fn(y_pred, y)\n",
    "            epoch_loss.append(loss.item())\n",
    "\n",
    "            y_pred = torch.round(y_pred)\n",
    "            epoch_correct += sum((y == y_pred).flatten())\n",
    "            epoch_total += y.numel()\n",
    "    \n",
    "    return np.mean(epoch_loss), accuracy(epoch_correct, epoch_total)"
   ]
  },
  {
   "cell_type": "code",
   "execution_count": 18,
   "metadata": {},
   "outputs": [],
   "source": [
    "def run_training(train_dataloader, val_dataloader, model, optimizer, loss_fn, num_epochs, scheduler=None, device=None, schedule_on_train=True, verbose=True):\n",
    "    train_losses, train_accs = [], []\n",
    "    val_losses, val_accs = [], []\n",
    "    \n",
    "    for epoch in range(num_epochs):\n",
    "        epoch_train_loss, epoch_train_acc = train(train_dataloader, model, optimizer, loss_fn, scheduler, device)\n",
    "        \n",
    "        train_losses.append(epoch_train_loss)\n",
    "        train_accs.append(epoch_train_acc)\n",
    "        \n",
    "        if val_dataloader is not None:\n",
    "            epoch_val_loss, epoch_val_acc = validate(val_dataloader, model, loss_fn, device)\n",
    "        \n",
    "            val_losses.append(epoch_val_loss)\n",
    "            val_accs.append(epoch_val_acc)\n",
    "        \n",
    "        if isinstance(scheduler, ReduceLROnPlateau):\n",
    "            scheduler.step(epoch_train_acc if schedule_on_train or val_dataloader is None else epoch_val_acc)\n",
    "            \n",
    "        if epoch % 1000 == 0:\n",
    "            val_str = f\", val loss: {epoch_val_loss}, val acc: {epoch_val_acc}\" if val_dataloader is not None else \"\"\n",
    "            print(f\"Epoch {epoch}, train loss: {epoch_train_loss}, train acc: {epoch_train_acc}{val_str}\")\n",
    "            \n",
    "    return train_losses, train_accs, val_losses, val_accs"
   ]
  },
  {
   "cell_type": "code",
   "execution_count": 19,
   "metadata": {},
   "outputs": [],
   "source": [
    "def plot(title, label, train_results, val_results=None):\n",
    "    epoch_array = np.arange(len(train_results)) + 1\n",
    "    train_label = \"Training \"+label.lower()\n",
    "    val_label = \"Validation \"+label.lower()\n",
    "    \n",
    "    sns.set(style='ticks')\n",
    "\n",
    "    plt.plot(epoch_array, train_results, linestyle='dashed', marker='o')\n",
    "    if val_results is not None: plt.plot(epoch_array, val_results, linestyle='dashed', marker='o')\n",
    "    legend = ['Train results', 'Validation results'] if val_results is not None else ['Train results']\n",
    "    \n",
    "    plt.legend(legend)\n",
    "    plt.xlabel('Epoch')\n",
    "    plt.ylabel(label)\n",
    "    plt.title(title)\n",
    "    \n",
    "    sns.despine(trim=True, offset=5)\n",
    "    plt.title(title, fontsize=15)\n",
    "    plt.show()"
   ]
  },
  {
   "cell_type": "code",
   "execution_count": 20,
   "metadata": {},
   "outputs": [],
   "source": [
    "def inspect_predictions(dataloader, model, round_pred=True, plot_latent_space=False, device=None):\n",
    "    lat_colors = ['r', 'g', 'b', 'y', 'm', 'c']\n",
    "    \n",
    "    model.eval()\n",
    "    with torch.no_grad():\n",
    "        for x, y in dataloader:\n",
    "            x = x.to(device)\n",
    "            y = y.to(device)\n",
    "            \n",
    "            y_pred, y_lat = model(x)\n",
    "\n",
    "            if round_pred: y_pred = torch.round(y_pred)\n",
    "            print(\"Ground truths:\", y[0,...])\n",
    "            print(\"Predictions:\", y_pred[0,...])\n",
    "            \n",
    "            criterion = nn.PoissonNLLLoss()\n",
    "            epsilon = 1e-8\n",
    "            loss = criterion((y_pred + epsilon).log(), (y + epsilon))\n",
    "            print(\"Loss:\", loss.item())\n",
    "            \n",
    "            print(\"Latents:\", y_lat.shape)\n",
    "            \n",
    "            if plot_latent_space:\n",
    "                y_lat = y_lat.numpy()\n",
    "                x_coordinates = y_lat[:, :, 0].flatten()\n",
    "                y_coordinates = y_lat[:, :, 1].flatten()\n",
    "\n",
    "                neuron_category = neuron_specifics.flatten().numpy()\n",
    "                colors = [lat_colors[spec_id] for spec_id in neuron_category]\n",
    "                colors = np.repeat(colors, y_lat.shape[1])\n",
    "\n",
    "                plt.scatter(x_coordinates, y_coordinates, c=colors)\n",
    "\n",
    "                legend_elements = []\n",
    "                for l in np.unique(neuron_category):\n",
    "                    legend_elements = legend_elements + [Line2D([0], [0], marker='o', color='w', markersize=8, markerfacecolor=lat_colors[l], label=f'{l}')]\n",
    "                plt.legend(handles=legend_elements)\n",
    "\n",
    "                plt.show()"
   ]
  },
  {
   "cell_type": "markdown",
   "metadata": {},
   "source": [
    "## Set up"
   ]
  },
  {
   "cell_type": "code",
   "execution_count": 21,
   "metadata": {},
   "outputs": [
    {
     "name": "stdout",
     "output_type": "stream",
     "text": [
      "Train with learning rate of 0.005\n",
      "Epoch 0, train loss: 0.3567299544811249, train acc: 0.10943396226415095\n"
     ]
    },
    {
     "name": "stderr",
     "output_type": "stream",
     "text": [
      "/usr/local/lib/python3.8/dist-packages/torch/autograd/__init__.py:130: UserWarning: CUDA initialization: Found no NVIDIA driver on your system. Please check that you have an NVIDIA GPU and installed a driver from http://www.nvidia.com/Download/index.aspx (Triggered internally at  /pytorch/c10/cuda/CUDAFunctions.cpp:100.)\n",
      "  Variable._execution_engine.run_backward(\n"
     ]
    },
    {
     "name": "stdout",
     "output_type": "stream",
     "text": [
      "Epoch 1000, train loss: -0.648263156414032, train acc: 0.439622641509434\n",
      "Epoch 2000, train loss: -0.6513632535934448, train acc: 0.47547169811320755\n",
      "Epoch 3000, train loss: -0.6523050665855408, train acc: 0.47735849056603774\n",
      "Epoch 4000, train loss: -0.6527709364891052, train acc: 0.48867924528301887\n",
      "Epoch 5000, train loss: -0.6529726982116699, train acc: 0.4830188679245283\n",
      "Epoch 6000, train loss: -0.6530892252922058, train acc: 0.4981132075471698\n",
      "Epoch 7000, train loss: -0.6531506776809692, train acc: 0.5\n",
      "Epoch 8000, train loss: -0.6531758308410645, train acc: 0.5037735849056604\n",
      "Epoch 9000, train loss: -0.6531936526298523, train acc: 0.5094339622641509\n",
      "Epoch 10000, train loss: -0.6531997323036194, train acc: 0.5094339622641509\n",
      "Epoch 11000, train loss: -0.6532022953033447, train acc: 0.5094339622641509\n",
      "Epoch 12000, train loss: -0.653203547000885, train acc: 0.5094339622641509\n",
      "Epoch 13000, train loss: -0.6532045602798462, train acc: 0.5094339622641509\n",
      "Epoch 14000, train loss: -0.6532014608383179, train acc: 0.5094339622641509\n",
      "Epoch 15000, train loss: -0.653205931186676, train acc: 0.5094339622641509\n",
      "Epoch 16000, train loss: -0.6532068252563477, train acc: 0.5094339622641509\n",
      "Epoch 17000, train loss: -0.6532120704650879, train acc: 0.5094339622641509\n",
      "Epoch 18000, train loss: -0.6715105175971985, train acc: 0.8037735849056604\n",
      "Epoch 19000, train loss: -0.6719688773155212, train acc: 0.8037735849056604\n",
      "Best loss: -0.672071099281311, best accuracy: 0.8037735849056604\n",
      "\n",
      "Train with learning rate of 0.001\n",
      "Epoch 0, train loss: 0.6198189854621887, train acc: 0.1509433962264151\n",
      "Epoch 1000, train loss: -0.4328935146331787, train acc: 0.32075471698113206\n",
      "Epoch 2000, train loss: -0.6316652297973633, train acc: 0.4981132075471698\n",
      "Epoch 3000, train loss: -0.6785852313041687, train acc: 0.6452830188679245\n",
      "Epoch 4000, train loss: -0.693303108215332, train acc: 0.6886792452830188\n",
      "Epoch 5000, train loss: -0.6980337500572205, train acc: 0.6924528301886792\n",
      "Epoch 6000, train loss: -0.7001460790634155, train acc: 0.6849056603773584\n",
      "Epoch 7000, train loss: -0.7012751698493958, train acc: 0.6849056603773584\n",
      "Epoch 8000, train loss: -0.7021210193634033, train acc: 0.6849056603773584\n",
      "Epoch 9000, train loss: -0.7028549909591675, train acc: 0.8037735849056604\n",
      "Epoch 10000, train loss: -0.7035598754882812, train acc: 0.8037735849056604\n",
      "Epoch 11000, train loss: -0.704310953617096, train acc: 0.6849056603773584\n",
      "Epoch 12000, train loss: -0.7052298784255981, train acc: 0.6849056603773584\n",
      "Epoch 13000, train loss: -0.7066494226455688, train acc: 0.8150943396226416\n",
      "Epoch 14000, train loss: -0.7093241214752197, train acc: 0.8132075471698114\n",
      "Epoch 15000, train loss: -0.7160357236862183, train acc: 0.960377358490566\n",
      "Epoch 16000, train loss: -0.722815215587616, train acc: 0.9754716981132076\n",
      "Epoch 17000, train loss: -0.7255075573921204, train acc: 0.9849056603773585\n",
      "Epoch 18000, train loss: -0.7267646193504333, train acc: 0.9962264150943396\n",
      "Epoch 19000, train loss: -0.7273428440093994, train acc: 1.0\n",
      "Best loss: -0.7277347445487976, best accuracy: 1.0\n",
      "\n",
      "Train with learning rate of 0.0005\n",
      "Epoch 0, train loss: 0.9632677435874939, train acc: 0.1509433962264151\n",
      "Epoch 1000, train loss: -0.13530778884887695, train acc: 0.19811320754716982\n",
      "Epoch 2000, train loss: -0.454944372177124, train acc: 0.24150943396226415\n",
      "Epoch 3000, train loss: -0.5572402477264404, train acc: 0.3283018867924528\n",
      "Epoch 4000, train loss: -0.5979994535446167, train acc: 0.4679245283018868\n",
      "Epoch 5000, train loss: -0.6208326816558838, train acc: 0.4716981132075472\n",
      "Epoch 6000, train loss: -0.6359509825706482, train acc: 0.4547169811320755\n",
      "Epoch 7000, train loss: -0.643528401851654, train acc: 0.4830188679245283\n",
      "Epoch 8000, train loss: -0.6467602849006653, train acc: 0.47924528301886793\n",
      "Epoch 9000, train loss: -0.648573100566864, train acc: 0.4849056603773585\n",
      "Epoch 10000, train loss: -0.64970463514328, train acc: 0.49056603773584906\n",
      "Epoch 11000, train loss: -0.6505540609359741, train acc: 0.49245283018867925\n",
      "Epoch 12000, train loss: -0.6512207984924316, train acc: 0.4962264150943396\n",
      "Epoch 13000, train loss: -0.6517629027366638, train acc: 0.4962264150943396\n",
      "Epoch 14000, train loss: -0.65226149559021, train acc: 0.4962264150943396\n",
      "Epoch 15000, train loss: -0.6528298258781433, train acc: 0.5018867924528302\n",
      "Epoch 16000, train loss: -0.6535685062408447, train acc: 0.5584905660377358\n",
      "Epoch 17000, train loss: -0.6542819738388062, train acc: 0.5226415094339623\n",
      "Epoch 18000, train loss: -0.654897153377533, train acc: 0.5679245283018868\n",
      "Epoch 19000, train loss: -0.6552339196205139, train acc: 0.5528301886792453\n",
      "Best loss: -0.6554383039474487, best accuracy: 0.5924528301886792\n",
      "\n"
     ]
    }
   ],
   "source": [
    "hidden_size = 2\n",
    "n_epochs = 20000\n",
    "\n",
    "scheduler = None #ReduceLROnPlateau(optimizer, mode='max', patience=200, factor=0.5)\n",
    "criterion = nn.PoissonNLLLoss()\n",
    "epsilon = 1e-8\n",
    "loss_fn = lambda pred, target: criterion((pred+epsilon).log(), (target+epsilon))\n",
    "#loss_fn = nn.MSELoss()\n",
    "\n",
    "results = []\n",
    "\n",
    "learning_rates = [0.005, 0.001, 0.0005]\n",
    "for opt, lr in zip(repeat(torch.optim.Adam), learning_rates):\n",
    "    print(\"Train with learning rate of\", lr)\n",
    "    \n",
    "    core = GRUCore(hidden_size)\n",
    "    readout = LinearReadout(hidden_size, bias=False)\n",
    "    model = CoreAndReadout(core, readout)\n",
    "    optimizer = opt(model.parameters(), lr=lr)\n",
    "    train_losses, train_accs, _, _ = run_training(train_dataloader, None, model, optimizer, loss_fn, n_epochs, scheduler=scheduler)\n",
    "    \n",
    "    results.append({'model': model, 'train_losses': train_losses, 'train_accs': train_accs, 'lr': lr})\n",
    "    \n",
    "    print(f\"Best loss: {min(train_losses)}, best accuracy: {max(train_accs)}\\n\")"
   ]
  },
  {
   "cell_type": "code",
   "execution_count": 22,
   "metadata": {},
   "outputs": [],
   "source": [
    "model_index = 1\n",
    "model_to_be_inspected = results[model_index]['model']\n",
    "train_losses = results[model_index]['train_losses']\n",
    "train_accs = results[model_index]['train_accs']"
   ]
  },
  {
   "cell_type": "code",
   "execution_count": 23,
   "metadata": {},
   "outputs": [
    {
     "data": {
      "image/png": "[encoded data removed]",
      "text/plain": [
       "<Figure size 432x288 with 1 Axes>"
      ]
     },
     "metadata": {},
     "output_type": "display_data"
    },
    {
     "data": {
      "image/png": "[encoded data removed]",
      "text/plain": [
       "<Figure size 432x288 with 1 Axes>"
      ]
     },
     "metadata": {},
     "output_type": "display_data"
    }
   ],
   "source": [
    "plot(\"Loss vs. epoch\", \"Loss\", train_losses)\n",
    "plot(\"Accuracy vs. epoch\", \"Accuracy\", train_accs)"
   ]
  },
  {
   "cell_type": "markdown",
   "metadata": {},
   "source": [
    "## Inspect model"
   ]
  },
  {
   "cell_type": "code",
   "execution_count": 81,
   "metadata": {},
   "outputs": [
    {
     "name": "stdout",
     "output_type": "stream",
     "text": [
      "Ground truths: tensor([0., 1., 0., 1., 0., 1., 0., 1., 0., 1., 0., 1., 0., 1., 0., 1., 0., 1.,\n",
      "        0., 1., 0., 1., 0., 1., 0., 1., 0., 1., 0., 1., 0., 1., 0., 1., 0., 1.,\n",
      "        0., 1., 0., 1., 0., 1., 0., 1., 0., 1., 0., 1., 0., 1., 0., 1., 0.])\n",
      "Predictions: tensor([1., 2., 3., 3., 3., 4., 4., 4., 4., 4., 4., 5., 4., 5., 5., 5., 5., 5.,\n",
      "        5., 5., 5., 5., 5., 5., 5., 5., 5., 6., 6., 6., 6., 6., 6., 6., 6., 6.,\n",
      "        6., 6., 6., 6., 6., 6., 6., 6., 6., 6., 6., 6., 6., 6., 6., 6., 6.])\n",
      "Loss: 0.2583683729171753\n",
      "Latents: torch.Size([10, 53, 10])\n"
     ]
    },
    {
     "data": {
      "image/png": "[encoded data removed]",
      "text/plain": [
       "<Figure size 432x288 with 1 Axes>"
      ]
     },
     "metadata": {},
     "output_type": "display_data"
    }
   ],
   "source": [
    "inspect_predictions(train_dataloader, model_to_be_inspected, round_pred=True, plot_latent_space=True)"
   ]
  },
  {
   "cell_type": "code",
   "execution_count": 25,
   "metadata": {},
   "outputs": [
    {
     "name": "stdout",
     "output_type": "stream",
     "text": [
      "Weights: Parameter containing:\n",
      "tensor([[-3.2098, -2.1016]], requires_grad=True)\n",
      "Biases: None\n",
      "Weight matrices for input-to-hidden connections: Parameter containing:\n",
      "tensor([[ 0.8623],\n",
      "        [ 0.9166],\n",
      "        [-0.9035],\n",
      "        [-0.4525],\n",
      "        [-0.2772],\n",
      "        [-0.4196]], requires_grad=True)\n",
      "Weight matrices for hidden-to-hidden connections: Parameter containing:\n",
      "tensor([[ 2.1464,  3.1734],\n",
      "        [ 2.2738, -3.2962],\n",
      "        [-2.2121, -5.1473],\n",
      "        [ 3.6216, -2.5350],\n",
      "        [ 1.5822, -1.6068],\n",
      "        [-0.8251,  3.7694]], requires_grad=True)\n",
      "Bias vectors for input-to-hidden connections: Parameter containing:\n",
      "tensor([-0.7067,  1.9801,  0.1462, -0.6719, -0.0523, -0.2198],\n",
      "       requires_grad=True)\n",
      "Bias vectors for hidden-to-hidden connections: Parameter containing:\n",
      "tensor([0.4638, 1.9475, 0.1629, 0.1637, 1.0571, 0.3405], requires_grad=True)\n"
     ]
    }
   ],
   "source": [
    "print(\"Weights:\", readout.linear.weight)\n",
    "\n",
    "print(\"Biases:\", readout.linear.bias)\n",
    "\n",
    "print(\"Weight matrices for input-to-hidden connections:\", core.gru.weight_ih)\n",
    "\n",
    "print(\"Weight matrices for hidden-to-hidden connections:\", core.gru.weight_hh)\n",
    "\n",
    "print(\"Bias vectors for input-to-hidden connections:\", core.gru.bias_ih)\n",
    "\n",
    "print(\"Bias vectors for hidden-to-hidden connections:\", core.gru.bias_hh)"
   ]
  },
  {
   "cell_type": "markdown",
   "metadata": {},
   "source": [
    "## Real data"
   ]
  },
  {
   "cell_type": "markdown",
   "metadata": {},
   "source": [
    "### Reach Cage data"
   ]
  },
  {
   "cell_type": "code",
   "execution_count": 72,
   "metadata": {},
   "outputs": [],
   "source": [
    "dataset = ReachCageDataset('data/reach_cage_spikes.csv', n_samples=10, bin_duration=100)"
   ]
  },
  {
   "cell_type": "code",
   "execution_count": 73,
   "metadata": {},
   "outputs": [
    {
     "name": "stdout",
     "output_type": "stream",
     "text": [
      "(54, 1)\n"
     ]
    },
    {
     "data": {
      "text/plain": [
       "array([[1, 0, 1, 0, 3, 1, 0, 1, 1, 5, 0, 2, 4, 3, 0, 0, 1, 3, 0, 1, 0, 4,\n",
       "        1, 1, 1, 2, 1, 2, 2, 0, 2, 0, 1, 4, 1, 1, 4, 3, 4, 3, 0, 4, 3, 1,\n",
       "        6, 3, 0, 8, 3, 2, 0, 1, 2, 3]])"
      ]
     },
     "execution_count": 73,
     "metadata": {},
     "output_type": "execute_result"
    }
   ],
   "source": [
    "# X\n",
    "print(dataset[0][0].shape)\n",
    "dataset[0][0].T"
   ]
  },
  {
   "cell_type": "code",
   "execution_count": 74,
   "metadata": {},
   "outputs": [
    {
     "name": "stdout",
     "output_type": "stream",
     "text": [
      "(54, 1)\n"
     ]
    },
    {
     "data": {
      "text/plain": [
       "array([[0, 1, 0, 1, 0, 3, 1, 0, 1, 1, 5, 0, 2, 4, 3, 0, 0, 1, 3, 0, 1, 0,\n",
       "        4, 1, 1, 1, 2, 1, 2, 2, 0, 2, 0, 1, 4, 1, 1, 4, 3, 4, 3, 0, 4, 3,\n",
       "        1, 6, 3, 0, 8, 3, 2, 0, 1, 2]])"
      ]
     },
     "execution_count": 74,
     "metadata": {},
     "output_type": "execute_result"
    }
   ],
   "source": [
    "# Y\n",
    "print(dataset[0][1].shape)\n",
    "dataset[0][1].T"
   ]
  },
  {
   "cell_type": "code",
   "execution_count": 75,
   "metadata": {},
   "outputs": [],
   "source": [
    "dataset = np.concatenate(dataset, axis=2)"
   ]
  },
  {
   "cell_type": "code",
   "execution_count": 77,
   "metadata": {},
   "outputs": [
    {
     "name": "stdout",
     "output_type": "stream",
     "text": [
      "torch.Size([10, 54])\n"
     ]
    },
    {
     "data": {
      "text/plain": [
       "tensor([[ 1.,  0.,  1.,  0.,  3.,  1.,  0.,  1.,  1.,  5.,  0.,  2.,  4.,  3.,\n",
       "          0.,  0.,  1.,  3.,  0.,  1.,  0.,  4.,  1.,  1.,  1.,  2.,  1.,  2.,\n",
       "          2.,  0.,  2.,  0.,  1.,  4.,  1.,  1.,  4.,  3.,  4.,  3.,  0.,  4.,\n",
       "          3.,  1.,  6.,  3.,  0.,  8.,  3.,  2.,  0.,  1.,  2.,  3.],\n",
       "        [ 2.,  2.,  0.,  1.,  1.,  2.,  0.,  1.,  0.,  0.,  2.,  2.,  1.,  0.,\n",
       "          0.,  1.,  1.,  1.,  2.,  1.,  1.,  2.,  1.,  0.,  1.,  0.,  0.,  2.,\n",
       "          0.,  0.,  0.,  2.,  0.,  1.,  1.,  1.,  0.,  1.,  3.,  2.,  1.,  2.,\n",
       "          0.,  0.,  2.,  0.,  4.,  2.,  1.,  3.,  0.,  1.,  0.,  1.],\n",
       "        [ 4.,  0.,  3.,  2.,  2.,  4.,  1.,  2.,  1.,  2.,  0.,  0.,  0.,  0.,\n",
       "          2.,  0.,  1.,  1.,  3.,  2.,  2.,  1.,  4.,  1.,  0.,  3.,  1.,  0.,\n",
       "          1.,  2.,  4.,  0.,  1.,  0.,  2.,  2.,  1.,  2.,  1.,  3.,  4.,  2.,\n",
       "          2.,  2.,  0.,  2.,  1.,  3.,  5.,  1.,  0.,  4.,  0.,  5.],\n",
       "        [ 2.,  0.,  2.,  1.,  1.,  1.,  0.,  1.,  4.,  1.,  0.,  2.,  0.,  3.,\n",
       "          0.,  3.,  0.,  0.,  0.,  2.,  5.,  1.,  1.,  1.,  2.,  1.,  1.,  0.,\n",
       "          0.,  3.,  4.,  2.,  1.,  0.,  0.,  0.,  3.,  2.,  3.,  1.,  4.,  1.,\n",
       "          1.,  5.,  2.,  2.,  1.,  4.,  0.,  3.,  4.,  2.,  0.,  3.],\n",
       "        [ 1.,  4.,  3.,  3.,  1.,  2.,  2.,  0.,  3.,  3.,  1.,  3.,  1.,  1.,\n",
       "          3.,  1.,  1.,  0.,  3.,  3.,  0.,  1.,  2.,  1.,  0.,  1.,  1.,  0.,\n",
       "          1.,  2.,  2.,  1.,  2.,  2.,  1.,  1.,  1.,  1.,  3.,  2.,  1.,  2.,\n",
       "          1.,  0.,  0.,  3.,  1.,  0.,  5.,  1.,  0.,  6.,  1.,  3.],\n",
       "        [ 4.,  0.,  0.,  1.,  1.,  2.,  3.,  0.,  3.,  1.,  0.,  1.,  2.,  1.,\n",
       "          2.,  0.,  0.,  0.,  1.,  1.,  1.,  2.,  0.,  0.,  1.,  0.,  1.,  1.,\n",
       "          1.,  0.,  2.,  0.,  2.,  1.,  2.,  2.,  1.,  2.,  1.,  1.,  1.,  4.,\n",
       "          0.,  1.,  3.,  0.,  2.,  1.,  0.,  2.,  1.,  1.,  0.,  1.],\n",
       "        [ 2.,  1.,  0.,  1.,  2.,  0.,  1.,  1.,  2.,  3.,  0.,  1.,  1.,  1.,\n",
       "          0.,  1.,  0.,  3.,  1.,  2.,  0.,  2.,  0.,  1.,  2.,  2.,  2.,  1.,\n",
       "          0.,  3.,  1.,  4.,  1.,  2.,  0.,  2.,  3.,  1.,  1.,  1.,  3.,  2.,\n",
       "          1.,  1.,  2.,  3.,  0.,  1.,  0.,  2.,  9.,  0.,  1.,  5.],\n",
       "        [ 4.,  4.,  1.,  1.,  3.,  2.,  1.,  3.,  0.,  3.,  1.,  1.,  2.,  0.,\n",
       "          2.,  0.,  1.,  1.,  1.,  2.,  0.,  4.,  1.,  4.,  0.,  3.,  1.,  1.,\n",
       "          0.,  2.,  7.,  3.,  0.,  0.,  7.,  3.,  1.,  0.,  2.,  6.,  1.,  3.,\n",
       "          3.,  1.,  0.,  5.,  1.,  2.,  1.,  1.,  0.,  0.,  1.,  0.],\n",
       "        [ 1.,  0.,  0.,  0.,  1.,  3.,  0.,  2.,  2.,  2.,  0.,  0.,  4.,  1.,\n",
       "          1.,  1.,  1.,  0.,  1.,  2.,  3.,  1.,  0.,  2.,  1.,  0.,  1.,  0.,\n",
       "          2.,  2.,  1.,  1.,  2.,  2.,  0.,  3.,  4.,  1.,  0.,  0.,  2.,  0.,\n",
       "          3.,  3.,  0.,  3.,  2.,  1.,  0.,  2.,  2.,  5.,  0.,  0.],\n",
       "        [ 1.,  0.,  1.,  2.,  0.,  1.,  3.,  2.,  5.,  2.,  0.,  0.,  3.,  1.,\n",
       "          1.,  1.,  1.,  1.,  1.,  0.,  1.,  1.,  1.,  2.,  2.,  0.,  0.,  3.,\n",
       "          1.,  2.,  0.,  1.,  1.,  0.,  1.,  7., 10.,  3.,  3.,  0.,  2.,  1.,\n",
       "          1.,  2.,  7.,  5.,  2.,  2.,  2.,  0.,  0.,  3.,  1.,  4.]])"
      ]
     },
     "execution_count": 77,
     "metadata": {},
     "output_type": "execute_result"
    }
   ],
   "source": [
    "X = torch.tensor(dataset[0].T, dtype=torch.float32)\n",
    "print(X.shape)\n",
    "X"
   ]
  },
  {
   "cell_type": "code",
   "execution_count": 78,
   "metadata": {},
   "outputs": [
    {
     "name": "stdout",
     "output_type": "stream",
     "text": [
      "torch.Size([10, 54])\n"
     ]
    },
    {
     "data": {
      "text/plain": [
       "tensor([[ 0.,  1.,  0.,  1.,  0.,  3.,  1.,  0.,  1.,  1.,  5.,  0.,  2.,  4.,\n",
       "          3.,  0.,  0.,  1.,  3.,  0.,  1.,  0.,  4.,  1.,  1.,  1.,  2.,  1.,\n",
       "          2.,  2.,  0.,  2.,  0.,  1.,  4.,  1.,  1.,  4.,  3.,  4.,  3.,  0.,\n",
       "          4.,  3.,  1.,  6.,  3.,  0.,  8.,  3.,  2.,  0.,  1.,  2.],\n",
       "        [ 4.,  2.,  2.,  0.,  1.,  1.,  2.,  0.,  1.,  0.,  0.,  2.,  2.,  1.,\n",
       "          0.,  0.,  1.,  1.,  1.,  2.,  1.,  1.,  2.,  1.,  0.,  1.,  0.,  0.,\n",
       "          2.,  0.,  0.,  0.,  2.,  0.,  1.,  1.,  1.,  0.,  1.,  3.,  2.,  1.,\n",
       "          2.,  0.,  0.,  2.,  0.,  4.,  2.,  1.,  3.,  0.,  1.,  0.],\n",
       "        [ 2.,  4.,  0.,  3.,  2.,  2.,  4.,  1.,  2.,  1.,  2.,  0.,  0.,  0.,\n",
       "          0.,  2.,  0.,  1.,  1.,  3.,  2.,  2.,  1.,  4.,  1.,  0.,  3.,  1.,\n",
       "          0.,  1.,  2.,  4.,  0.,  1.,  0.,  2.,  2.,  1.,  2.,  1.,  3.,  4.,\n",
       "          2.,  2.,  2.,  0.,  2.,  1.,  3.,  5.,  1.,  0.,  4.,  0.],\n",
       "        [ 0.,  2.,  0.,  2.,  1.,  1.,  1.,  0.,  1.,  4.,  1.,  0.,  2.,  0.,\n",
       "          3.,  0.,  3.,  0.,  0.,  0.,  2.,  5.,  1.,  1.,  1.,  2.,  1.,  1.,\n",
       "          0.,  0.,  3.,  4.,  2.,  1.,  0.,  0.,  0.,  3.,  2.,  3.,  1.,  4.,\n",
       "          1.,  1.,  5.,  2.,  2.,  1.,  4.,  0.,  3.,  4.,  2.,  0.],\n",
       "        [ 1.,  1.,  4.,  3.,  3.,  1.,  2.,  2.,  0.,  3.,  3.,  1.,  3.,  1.,\n",
       "          1.,  3.,  1.,  1.,  0.,  3.,  3.,  0.,  1.,  2.,  1.,  0.,  1.,  1.,\n",
       "          0.,  1.,  2.,  2.,  1.,  2.,  2.,  1.,  1.,  1.,  1.,  3.,  2.,  1.,\n",
       "          2.,  1.,  0.,  0.,  3.,  1.,  0.,  5.,  1.,  0.,  6.,  1.],\n",
       "        [ 2.,  4.,  0.,  0.,  1.,  1.,  2.,  3.,  0.,  3.,  1.,  0.,  1.,  2.,\n",
       "          1.,  2.,  0.,  0.,  0.,  1.,  1.,  1.,  2.,  0.,  0.,  1.,  0.,  1.,\n",
       "          1.,  1.,  0.,  2.,  0.,  2.,  1.,  2.,  2.,  1.,  2.,  1.,  1.,  1.,\n",
       "          4.,  0.,  1.,  3.,  0.,  2.,  1.,  0.,  2.,  1.,  1.,  0.],\n",
       "        [ 0.,  2.,  1.,  0.,  1.,  2.,  0.,  1.,  1.,  2.,  3.,  0.,  1.,  1.,\n",
       "          1.,  0.,  1.,  0.,  3.,  1.,  2.,  0.,  2.,  0.,  1.,  2.,  2.,  2.,\n",
       "          1.,  0.,  3.,  1.,  4.,  1.,  2.,  0.,  2.,  3.,  1.,  1.,  1.,  3.,\n",
       "          2.,  1.,  1.,  2.,  3.,  0.,  1.,  0.,  2.,  9.,  0.,  1.],\n",
       "        [ 2.,  4.,  4.,  1.,  1.,  3.,  2.,  1.,  3.,  0.,  3.,  1.,  1.,  2.,\n",
       "          0.,  2.,  0.,  1.,  1.,  1.,  2.,  0.,  4.,  1.,  4.,  0.,  3.,  1.,\n",
       "          1.,  0.,  2.,  7.,  3.,  0.,  0.,  7.,  3.,  1.,  0.,  2.,  6.,  1.,\n",
       "          3.,  3.,  1.,  0.,  5.,  1.,  2.,  1.,  1.,  0.,  0.,  1.],\n",
       "        [ 5.,  1.,  0.,  0.,  0.,  1.,  3.,  0.,  2.,  2.,  2.,  0.,  0.,  4.,\n",
       "          1.,  1.,  1.,  1.,  0.,  1.,  2.,  3.,  1.,  0.,  2.,  1.,  0.,  1.,\n",
       "          0.,  2.,  2.,  1.,  1.,  2.,  2.,  0.,  3.,  4.,  1.,  0.,  0.,  2.,\n",
       "          0.,  3.,  3.,  0.,  3.,  2.,  1.,  0.,  2.,  2.,  5.,  0.],\n",
       "        [ 3.,  1.,  0.,  1.,  2.,  0.,  1.,  3.,  2.,  5.,  2.,  0.,  0.,  3.,\n",
       "          1.,  1.,  1.,  1.,  1.,  1.,  0.,  1.,  1.,  1.,  2.,  2.,  0.,  0.,\n",
       "          3.,  1.,  2.,  0.,  1.,  1.,  0.,  1.,  7., 10.,  3.,  3.,  0.,  2.,\n",
       "          1.,  1.,  2.,  7.,  5.,  2.,  2.,  2.,  0.,  0.,  3.,  1.]])"
      ]
     },
     "execution_count": 78,
     "metadata": {},
     "output_type": "execute_result"
    }
   ],
   "source": [
    "Y = torch.tensor(dataset[1].T, dtype=torch.float32)\n",
    "print(Y.shape)\n",
    "Y"
   ]
  },
  {
   "cell_type": "code",
   "execution_count": 79,
   "metadata": {},
   "outputs": [],
   "source": [
    "rc_dataset = CustomDataset(X, Y)\n",
    "batch_size = 10\n",
    "rc_dataloader = DataLoader(rc_dataset, batch_size=batch_size, shuffle=False)"
   ]
  },
  {
   "cell_type": "code",
   "execution_count": null,
   "metadata": {},
   "outputs": [
    {
     "name": "stdout",
     "output_type": "stream",
     "text": [
      "Train with learning rate of 0.005\n",
      "Epoch 0, train loss: 0.9404853582382202, train acc: 0.3277777777777778\n",
      "Epoch 1000, train loss: 0.5905227661132812, train acc: 0.3907407407407407\n",
      "Epoch 2000, train loss: 0.6641800999641418, train acc: 0.39444444444444443\n",
      "Epoch 3000, train loss: 0.6465678215026855, train acc: 0.3611111111111111\n",
      "Epoch 4000, train loss: 0.5650990605354309, train acc: 0.42777777777777776\n",
      "Epoch 5000, train loss: 0.5566473007202148, train acc: 0.45\n",
      "Epoch 6000, train loss: 0.5280269384384155, train acc: 0.44814814814814813\n",
      "Epoch 7000, train loss: 0.5504710078239441, train acc: 0.4185185185185185\n",
      "Epoch 8000, train loss: 0.6045799255371094, train acc: 0.37777777777777777\n",
      "Epoch 9000, train loss: 0.7861846089363098, train acc: 0.2833333333333333\n",
      "Epoch 10000, train loss: 0.6882598400115967, train acc: 0.32222222222222224\n",
      "Epoch 11000, train loss: 0.5719608664512634, train acc: 0.37222222222222223\n",
      "Epoch 12000, train loss: 0.5407647490501404, train acc: 0.4148148148148148\n",
      "Epoch 13000, train loss: 0.509587824344635, train acc: 0.45555555555555555\n",
      "Epoch 14000, train loss: 0.5214810371398926, train acc: 0.42592592592592593\n",
      "Epoch 15000, train loss: 0.9469979405403137, train acc: 0.25555555555555554\n",
      "Epoch 16000, train loss: 0.86723792552948, train acc: 0.28888888888888886\n",
      "Epoch 17000, train loss: 0.8658207058906555, train acc: 0.28888888888888886\n",
      "Epoch 18000, train loss: 0.8636640310287476, train acc: 0.28703703703703703\n",
      "Epoch 19000, train loss: 0.8611371517181396, train acc: 0.29814814814814816\n",
      "Best loss: 0.49784308671951294, best accuracy: 0.4740740740740741\n",
      "\n",
      "Train with learning rate of 0.001\n",
      "Epoch 0, train loss: 0.8988026976585388, train acc: 0.3277777777777778\n",
      "Epoch 1000, train loss: 0.7936646342277527, train acc: 0.3148148148148148\n",
      "Epoch 2000, train loss: 0.7308648228645325, train acc: 0.32592592592592595\n",
      "Epoch 3000, train loss: 0.7840672731399536, train acc: 0.28888888888888886\n",
      "Epoch 4000, train loss: 0.7505142688751221, train acc: 0.31296296296296294\n",
      "Epoch 5000, train loss: 0.7421333193778992, train acc: 0.29444444444444445\n",
      "Epoch 6000, train loss: 0.709366500377655, train acc: 0.31296296296296294\n",
      "Epoch 7000, train loss: 0.694607138633728, train acc: 0.31666666666666665\n",
      "Epoch 8000, train loss: 0.6782136559486389, train acc: 0.32222222222222224\n",
      "Epoch 9000, train loss: 0.6959452033042908, train acc: 0.3296296296296296\n",
      "Epoch 10000, train loss: 0.7548233270645142, train acc: 0.31296296296296294\n",
      "Epoch 11000, train loss: 0.6686916351318359, train acc: 0.35\n",
      "Epoch 12000, train loss: 0.6946908831596375, train acc: 0.3314814814814815\n",
      "Epoch 13000, train loss: 0.8315577507019043, train acc: 0.28888888888888886\n",
      "Epoch 14000, train loss: 0.6478704810142517, train acc: 0.36666666666666664\n",
      "Epoch 15000, train loss: 0.6883507370948792, train acc: 0.37222222222222223\n",
      "Epoch 16000, train loss: 0.6541921496391296, train acc: 0.37222222222222223\n",
      "Epoch 17000, train loss: 0.608727753162384, train acc: 0.37962962962962965\n",
      "Epoch 18000, train loss: 0.5717180967330933, train acc: 0.42777777777777776\n",
      "Epoch 19000, train loss: 0.5452293157577515, train acc: 0.45740740740740743\n",
      "Best loss: 0.5324665904045105, best accuracy: 0.4759259259259259\n",
      "\n",
      "Train with learning rate of 0.0005\n",
      "Epoch 0, train loss: 1.004820704460144, train acc: 0.3277777777777778\n"
     ]
    }
   ],
   "source": [
    "hidden_size = 10\n",
    "n_epochs = 20000\n",
    "\n",
    "scheduler = StepLR(optimizer, step_size=2000, gamma=0.1)\n",
    "criterion = nn.PoissonNLLLoss()\n",
    "epsilon = 1e-8\n",
    "loss_fn = lambda pred, target: criterion((pred+epsilon).log(), (target+epsilon))\n",
    "#loss_fn = nn.MSELoss()\n",
    "\n",
    "results = []\n",
    "\n",
    "learning_rates = [0.005, 0.001, 0.0005]\n",
    "for opt, lr in zip(repeat(torch.optim.Adam), learning_rates):\n",
    "    print(\"Train with learning rate of\", lr)\n",
    "\n",
    "    core = GRUCore(hidden_size)\n",
    "    readout = LinearReadout(hidden_size, bias=False)\n",
    "    model = CoreAndReadout(core, readout)\n",
    "    optimizer = opt(model.parameters(), lr=lr)\n",
    "    train_losses, train_accs, _, _ = run_training(rc_dataloader, None, model, optimizer, loss_fn, n_epochs, scheduler=scheduler)\n",
    "    \n",
    "    results.append({'model': model, 'train_losses': train_losses, 'train_accs': train_accs, 'lr': lr})\n",
    "    \n",
    "    print(f\"Best loss: {min(train_losses)}, best accuracy: {max(train_accs)}\\n\")"
   ]
  },
  {
   "cell_type": "code",
   "execution_count": null,
   "metadata": {},
   "outputs": [],
   "source": [
    "model_index = 0\n",
    "model_to_be_inspected = results[model_index]['model']\n",
    "train_losses = results[model_index]['train_losses']\n",
    "train_accs = results[model_index]['train_accs']"
   ]
  },
  {
   "cell_type": "code",
   "execution_count": null,
   "metadata": {},
   "outputs": [],
   "source": [
    "plot(\"Loss vs. epoch\", \"Loss\", train_losses)\n",
    "plot(\"Accuracy vs. epoch\", \"Accuracy\", train_accs)"
   ]
  },
  {
   "cell_type": "code",
   "execution_count": null,
   "metadata": {},
   "outputs": [],
   "source": [
    "inspect_predictions(rc_dataloader, model_to_be_inspected, round_pred=True)"
   ]
  },
  {
   "cell_type": "code",
   "execution_count": null,
   "metadata": {},
   "outputs": [],
   "source": [
    "print(\"Weights:\", model_to_be_inspected.readout.linear.weight)\n",
    "\n",
    "print(\"Biases:\", model_to_be_inspected.readout.linear.bias)\n",
    "\n",
    "print(\"Weight matrices for input-to-hidden connections:\", model_to_be_inspected.core.gru.weight_ih)\n",
    "\n",
    "print(\"Weight matrices for hidden-to-hidden connections:\", model_to_be_inspected.core.gru.weight_hh)\n",
    "\n",
    "print(\"Bias vectors for input-to-hidden connections:\", model_to_be_inspected.core.gru.bias_ih)\n",
    "\n",
    "print(\"Bias vectors for hidden-to-hidden connections:\", model_to_be_inspected.core.gru.bias_hh)"
   ]
  },
  {
   "cell_type": "markdown",
   "metadata": {},
   "source": [
    "# Upcoming todos\n",
    "- read into (latent) factor analysis\n",
    "- more fitting data generation/simulation? (Nonlinear general pattern + linear neuron-specific characteristics?)\n",
    "- ...?"
   ]
  }
 ],
 "metadata": {
  "kernelspec": {
   "display_name": "Python 3",
   "language": "python",
   "name": "python3"
  },
  "language_info": {
   "codemirror_mode": {
    "name": "ipython",
    "version": 3
   },
   "file_extension": ".py",
   "mimetype": "text/x-python",
   "name": "python",
   "nbconvert_exporter": "python",
   "pygments_lexer": "ipython3",
   "version": "3.8.0"
  }
 },
 "nbformat": 4,
 "nbformat_minor": 4
}
